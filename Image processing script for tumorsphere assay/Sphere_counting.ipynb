{
  "cells": [
    {
      "cell_type": "code",
      "execution_count": null,
      "metadata": {
        "colab": {
          "background_save": true
        },
        "id": "ZIZUfFWYRcGg",
        "collapsed": true
      },
      "outputs": [],
      "source": [
        "import cv2\n",
        "import matplotlib.pyplot as plt\n",
        "import numpy as np\n",
        "import math\n",
        "import cmath\n",
        "import os\n",
        "\n",
        "def plot_img(fig):\n",
        "  plt.figure(figsize=(10,10))\n",
        "  plt.imshow(fig, cmap='gray', vmin=0, vmax=255)\n",
        "  plt.axis('off')\n",
        "  plt.show()\n",
        "\n",
        "\n",
        "def fft_padding(img, kernel):\n",
        "  p = img.shape[0] + kernel.shape[0] - 1\n",
        "  q = img.shape[1] + kernel.shape[1] - 1\n",
        "  new_img = np.zeros((p, q))\n",
        "  new_kernel = np.zeros((p, q))\n",
        "  for x in range(img.shape[0]):\n",
        "    for y in range(img.shape[1]):\n",
        "      new_img[x][y] = img[x][y]\n",
        "  for x in range(kernel.shape[0]):\n",
        "    for y in range(kernel.shape[1]):\n",
        "      new_kernel[x][y] = kernel[x][y]\n",
        "  return new_img, new_kernel\n",
        "\n",
        "\n",
        "file_list = []\n",
        "for file_path in os.listdir('/content'):\n",
        "    # check if current file_path is a file\n",
        "    if os.path.isfile(os.path.join('/content', file_path)):\n",
        "        # add filename to list\n",
        "        file_list.append(file_path)\n",
        "\n",
        "folder_path = '/content/processed_images'\n",
        "if not os.path.exists(folder_path):\n",
        "    os.makedirs(folder_path)\n",
        "\n",
        "for file_name in file_list:\n",
        "  img = cv2.imread(file_name, 0)\n",
        "  plot_img(img)\n",
        "  blur = cv2.GaussianBlur(img,(5,5),0)\n",
        "  th1 = cv2.adaptiveThreshold(blur.astype('uint8'),255,cv2.ADAPTIVE_THRESH_GAUSSIAN_C,\\\n",
        " cv2.THRESH_BINARY_INV,11,2)\n",
        "  plot_img(th1)\n",
        "  contours, hierarchy = cv2.findContours(th1.astype('uint8'), cv2.RETR_EXTERNAL, cv2.CHAIN_APPROX_NONE)\n",
        "  cv2.drawContours(img, contours, -1, (0,255,0), cv2.FILLED)\n",
        "  plot_img(img)\n",
        "  img = cv2.medianBlur(img, 5)\n",
        "  plot_img(img)\n",
        "  sobel_kernel_x = np.array([[-1, 0, 1],\n",
        "                           [-2, 0, 2],\n",
        "                           [-1, 0, 1]])\n",
        "  padded_img, padded_sobel_x = fft_padding(img, sobel_kernel_x)\n",
        "\n",
        "\n",
        "  sobel_kernel_y = np.array([[-1, -2, -1],\n",
        "                           [0, 0, 0],\n",
        "                           [1, 2, 1]])\n",
        "  padded_img, padded_sobel_y = fft_padding(img, sobel_kernel_y)\n",
        "\n",
        "  fft_img = np.fft.fft2(padded_img)\n",
        "  fft_sobel_x = np.fft.fft2(padded_sobel_x)\n",
        "  fft_sobel_y = np.fft.fft2(padded_sobel_y)\n",
        "  fft_img_x = fft_img * fft_sobel_x\n",
        "  fft_img_y = fft_img * fft_sobel_y\n",
        "\n",
        "  img_x = np.round(np.fft.ifft2(fft_img_x).real)\n",
        "  img_y = np.round(np.fft.ifft2(fft_img_y).real)\n",
        "\n",
        "  filtered_img = (img_x ** 2 + img_y ** 2) ** (1/2)\n",
        "  plot_img(filtered_img)\n",
        "  cv2.imwrite(f'{folder_path}/processed_{file_name}.tif', filtered_img)\n"
      ]
    },
    {
      "cell_type": "code",
      "execution_count": null,
      "metadata": {
        "id": "hRcu1_D39VNX"
      },
      "outputs": [],
      "source": [
        "!zip -r /content/processed_images.zip /content/processed_images\n",
        "from google.colab import files\n",
        "files.download('/content/processed_images.zip')"
      ]
    }
  ],
  "metadata": {
    "colab": {
      "provenance": []
    },
    "kernelspec": {
      "display_name": "Python 3",
      "name": "python3"
    },
    "language_info": {
      "name": "python"
    }
  },
  "nbformat": 4,
  "nbformat_minor": 0
}
