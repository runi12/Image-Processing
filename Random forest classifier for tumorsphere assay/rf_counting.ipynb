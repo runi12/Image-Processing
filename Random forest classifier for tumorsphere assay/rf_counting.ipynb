{
  "nbformat": 4,
  "nbformat_minor": 0,
  "metadata": {
    "colab": {
      "provenance": []
    },
    "kernelspec": {
      "name": "python3",
      "display_name": "Python 3"
    },
    "language_info": {
      "name": "python"
    }
  },
  "cells": [
    {
      "cell_type": "code",
      "execution_count": 1,
      "metadata": {
        "id": "yvG6iyBVTcYx"
      },
      "outputs": [],
      "source": [
        "import cv2\n",
        "import numpy as np\n",
        "from google.colab.patches import cv2_imshow\n",
        "import os\n",
        "import time\n",
        "from skimage.measure import label, regionprops, regionprops_table\n",
        "import pandas\n",
        "from IPython.display import clear_output\n",
        "from sklearn.model_selection import train_test_split\n",
        "from sklearn.ensemble import RandomForestClassifier\n",
        "import pickle"
      ]
    },
    {
      "cell_type": "code",
      "source": [
        "def fft_padding(img, kernel):\n",
        "  p = img.shape[0] + kernel.shape[0] - 1\n",
        "  q = img.shape[1] + kernel.shape[1] - 1\n",
        "  new_img = np.zeros((p, q))\n",
        "  new_img[0:img.shape[0], 0:img.shape[1]]=img\n",
        "  new_kernel = np.zeros((p, q))\n",
        "  new_kernel[0:kernel.shape[0], 0:kernel.shape[1]]=kernel\n",
        "  return new_img, new_kernel\n",
        "\n",
        "\n",
        "def convolve(img, kernel, iter):\n",
        "  new_img, new_kernel = fft_padding(img, kernel)\n",
        "  fft_img=np.fft.fft2(new_img)\n",
        "  fft_kernel=np.fft.fft2(new_kernel)\n",
        "  convolved_img=fft_img * (fft_kernel ** iter)\n",
        "  convolved_img=np.round(np.fft.ifft2(convolved_img).real)\n",
        "  return convolved_img\n",
        "\n",
        "\n",
        "def processing(img):\n",
        "  #noise reduction\n",
        "  mean_filter = 1/49 * np.ones((7,7))\n",
        "  smooth_img = convolve(img, mean_filter, 2)\n",
        "\n",
        "  #edge detection\n",
        "  sobel_x = np.array([[-5, 0, 5], [-5, 0, 5], [-5, 0, 5]])\n",
        "  sobel_y = np.array([[-5, -5, -5], [0, 0, 0], [5, 5, 5]])\n",
        "  sobel_x = convolve(smooth_img, sobel_x, 1)\n",
        "  sobel_y = convolve(smooth_img, sobel_y, 1)\n",
        "  gradient = np.sqrt(np.square(sobel_x) + np.square(sobel_y))\n",
        "  thresh, ret=cv2.threshold(gradient, 50, 255, cv2.THRESH_BINARY)\n",
        "  ret=cv2.dilate(ret, (5,5), iterations=2)\n",
        "  ret=cv2.erode(ret, (9,9), iterations=2)\n",
        "  return ret[8:, 8:]"
      ],
      "metadata": {
        "id": "4woSQNL2Tf0P"
      },
      "execution_count": 2,
      "outputs": []
    },
    {
      "cell_type": "code",
      "source": [
        "dir_files = os.listdir('/content')\n",
        "extension ='.sav'\n",
        "sf_files = [file for file in dir_files if os.path.splitext(file)[1] == extension][0]\n",
        "rf_model = pickle.load(open(f'/content/{sf_files}', 'rb'))"
      ],
      "metadata": {
        "id": "kcHknPImTwSs"
      },
      "execution_count": 3,
      "outputs": []
    },
    {
      "cell_type": "code",
      "source": [
        "if not os.path.exists('measured_imgs'):\n",
        "  os.mkdir('measured_imgs')\n",
        "\n",
        "if not os.path.exists('results'):\n",
        "  os.mkdir('results')\n",
        "\n",
        "properties = ['area','area_bbox',\t'area_convex',\t'area_filled',\\\n",
        "              'axis_major_length',\t'axis_minor_length']\n",
        "\n",
        "code={0: 'no_sphere', 1: 'sphere'}\n",
        "\n",
        "if 'good_imgs' not in locals():\n",
        "  good_imgs = os.listdir(os.getcwd())\n",
        "\n",
        "for j in good_imgs:\n",
        "  measurements = pandas.DataFrame()\n",
        "  if j.endswith('.tif'):\n",
        "    img=cv2.imread(j, 0)\n",
        "    color_img=cv2.imread(j)\n",
        "    processed_img = processing(img)\n",
        "    contours, hierarchy = cv2.findContours(processed_img.astype('uint8'),\\\n",
        "                                           cv2.RETR_EXTERNAL, cv2.CHAIN_APPROX_NONE)\n",
        "    for contour in contours:\n",
        "      blank = np.zeros((processed_img.shape))\n",
        "      blank = cv2.drawContours(blank.astype('uint8'), contour, -1, (255, 255, 255), 3)\n",
        "      label_img = label(blank, connectivity=2)\n",
        "      props = regionprops_table(label_img, properties=properties)\n",
        "      answer = rf_model.predict(pandas.DataFrame(props))[0]\n",
        "      if answer == 1 or answer == '1':\n",
        "        measurements=pandas.concat([measurements, pandas.DataFrame(props)])\n",
        "        x, y, w, h = cv2.boundingRect(contour)\n",
        "        color_img=cv2.rectangle(color_img.astype('uint8'),(x,y), (x+w,y+h), (36,255,12), 1)\n",
        "    cv2_imshow(color_img)\n",
        "    time.sleep(1)\n",
        "    measurements.to_csv(f'/content/results/{j[:-4]}_measurements.csv')\n",
        "    cv2.imwrite(f'/content/measured_imgs/{j[:-4]}.jpg', color_img)\n",
        "    clear_output()"
      ],
      "metadata": {
        "id": "1koCIb4BTqxq"
      },
      "execution_count": 4,
      "outputs": []
    },
    {
      "cell_type": "code",
      "source": [
        "!zip -r /content/measured_imgs.zip /content/measured_imgs\n",
        "!zip -r /content/results.zip /content/results\n",
        "from google.colab import files\n",
        "files.download(\"/content/measured_imgs.zip\")\n",
        "files.download(\"/content/results.zip\")"
      ],
      "metadata": {
        "id": "dwJRQSuQTrev"
      },
      "execution_count": null,
      "outputs": []
    }
  ]
}